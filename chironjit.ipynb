{
 "cells": [
  {
   "cell_type": "code",
   "execution_count": 15,
   "metadata": {},
   "outputs": [
    {
     "name": "stdout",
     "output_type": "stream",
     "text": [
      "BWL6eH!5i\n"
     ]
    }
   ],
   "source": [
    "import random \n",
    "lower_case=\"abcdefghijklmnopqrstuvwxyz\"\n",
    "upper_case=\"ABCDEFGHIJKLMNOPQRSTUVWXYZ\"\n",
    "number=\"0123456789\"\n",
    "symbole=\"(){}[]@!&^$#\"\n",
    "\n",
    "result=lower_case+upper_case+number+symbole\n",
    "\n",
    "length=9\n",
    "password=\"\".join(random.sample(result, length))\n",
    "print(password)"
   ]
  }
 ],
 "metadata": {
  "kernelspec": {
   "display_name": "Python 3.9.6 64-bit",
   "language": "python",
   "name": "python3"
  },
  "language_info": {
   "codemirror_mode": {
    "name": "ipython",
    "version": 3
   },
   "file_extension": ".py",
   "mimetype": "text/x-python",
   "name": "python",
   "nbconvert_exporter": "python",
   "pygments_lexer": "ipython3",
   "version": "3.9.6"
  },
  "orig_nbformat": 4,
  "vscode": {
   "interpreter": {
    "hash": "efc63e5ef173ac3001c46581a455e6b334f962f63065728c5dcfcbf1c333f383"
   }
  }
 },
 "nbformat": 4,
 "nbformat_minor": 2
}
