{
 "cells": [
  {
   "cell_type": "code",
   "execution_count": 19,
   "metadata": {},
   "outputs": [
    {
     "name": "stdout",
     "output_type": "stream",
     "text": [
      "Number1 is greater than number2\n"
     ]
    }
   ],
   "source": [
    "Number1=1000;\n",
    "Number2=999;\n",
    "\n",
    "if Number1>Number2:\n",
    "    print(\"Number1 is greater than Number2\");\n",
    "else:\n",
    "    print(\"Number2 is greater than Number1\");"
   ]
  }
 ],
 "metadata": {
  "kernelspec": {
   "display_name": "Python 3.9.6 64-bit",
   "language": "python",
   "name": "python3"
  },
  "language_info": {
   "codemirror_mode": {
    "name": "ipython",
    "version": 3
   },
   "file_extension": ".py",
   "mimetype": "text/x-python",
   "name": "python",
   "nbconvert_exporter": "python",
   "pygments_lexer": "ipython3",
   "version": "3.9.6"
  },
  "orig_nbformat": 4,
  "vscode": {
   "interpreter": {
    "hash": "efc63e5ef173ac3001c46581a455e6b334f962f63065728c5dcfcbf1c333f383"
   }
  }
 },
 "nbformat": 4,
 "nbformat_minor": 2
}
