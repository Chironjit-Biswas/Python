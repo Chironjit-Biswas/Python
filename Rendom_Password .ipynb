import random 
lower_case="abcdefghijklmnopqrstuvwxyz"
upper_case="ABCDEFGHIJKLMNOPQRSTUVWXYZ"
number="0123456789"
symbole="(){}[]@!&^$#"

result=lower_case+upper_case+number+symbole

length=9
password="".join(random.sample(result, length))
print(password)