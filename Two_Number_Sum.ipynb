{
 "cells": [
  {
   "cell_type": "code",
   "execution_count": 1,
   "metadata": {},
   "outputs": [
    {
     "name": "stdout",
     "output_type": "stream",
     "text": [
      "Result =  11\n"
     ]
    }
   ],
   "source": [
    "number1=5;\n",
    "number2=6;\n",
    "\n",
    "sum=number1+number2;\n",
    "print(\"Result = \", sum );"
   ]
  }
 ],
 "metadata": {
  "kernelspec": {
   "display_name": "Python 3.9.6 64-bit",
   "language": "python",
   "name": "python3"
  },
  "language_info": {
   "codemirror_mode": {
    "name": "ipython",
    "version": 3
   },
   "file_extension": ".py",
   "mimetype": "text/x-python",
   "name": "python",
   "nbconvert_exporter": "python",
   "pygments_lexer": "ipython3",
   "version": "3.9.6"
  },
  "orig_nbformat": 4,
  "vscode": {
   "interpreter": {
    "hash": "efc63e5ef173ac3001c46581a455e6b334f962f63065728c5dcfcbf1c333f383"
   }
  }
 },
 "nbformat": 4,
 "nbformat_minor": 2
}
